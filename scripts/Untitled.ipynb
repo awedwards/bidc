{
 "cells": [
  {
   "cell_type": "code",
   "execution_count": 106,
   "metadata": {},
   "outputs": [],
   "source": [
    "import h5py\n",
    "import numpy as np\n",
    "import matplotlib\n",
    "import matplotlib.pyplot as plt\n",
    "%matplotlib inline"
   ]
  },
  {
   "cell_type": "code",
   "execution_count": 11,
   "metadata": {},
   "outputs": [],
   "source": [
    "f = h5py.File(\"/Users/edwardsa/Documents/ucsf/data/Baron/CD8a_CD4_45039_Image_Export_02/full.h5\",'r')"
   ]
  },
  {
   "cell_type": "code",
   "execution_count": 23,
   "metadata": {},
   "outputs": [],
   "source": [
    "d = f['data']"
   ]
  },
  {
   "cell_type": "code",
   "execution_count": 88,
   "metadata": {},
   "outputs": [],
   "source": [
    "# decimation factor \n",
    "\n",
    "decimation_factor = 10\n",
    "overlap = 0.1"
   ]
  },
  {
   "cell_type": "code",
   "execution_count": 123,
   "metadata": {},
   "outputs": [
    {
     "name": "stdout",
     "output_type": "stream",
     "text": [
      "479219432\n"
     ]
    }
   ],
   "source": [
    "z,t,x,y,c=d.shape\n",
    "print(x*y)"
   ]
  },
  {
   "cell_type": "code",
   "execution_count": 90,
   "metadata": {},
   "outputs": [],
   "source": [
    "new_dim_x = np.floor(x/(decimation_factor*(1-overlap)))\n",
    "new_dim_y = np.floor(y/(decimation_factor*(1-overlap)))"
   ]
  },
  {
   "cell_type": "code",
   "execution_count": 91,
   "metadata": {},
   "outputs": [
    {
     "data": {
      "text/plain": [
       "2.0"
      ]
     },
     "execution_count": 91,
     "metadata": {},
     "output_type": "execute_result"
    }
   ],
   "source": [
    "np.mod(x,new_dim_x)"
   ]
  },
  {
   "cell_type": "code",
   "execution_count": 119,
   "metadata": {},
   "outputs": [],
   "source": [
    "xstart = list(range(0,x,int(new_dim_x * (1-overlap) )))\n",
    "if x-xstart[-1] < new_dim_x:\n",
    "    xstart.pop(-1)\n",
    "\n",
    "xend = xstart+new_dim_x\n",
    "if xend[-1] < x:\n",
    "    xend[-1] = x\n",
    "\n",
    "ystart = list(range(0,y,int(new_dim_y * (1-overlap) )))\n",
    "if y-ystart[-1] < new_dim_y:\n",
    "    ystart.pop(-1)\n",
    "\n",
    "yend = ystart+new_dim_y\n",
    "if yend[-1] < y:\n",
    "    yend[-1] = y"
   ]
  },
  {
   "cell_type": "code",
   "execution_count": 125,
   "metadata": {},
   "outputs": [
    {
     "name": "stdout",
     "output_type": "stream",
     "text": [
      "580013258\n"
     ]
    }
   ],
   "source": [
    "total_pix = 0\n",
    "for i in np.arange(len(xstart)):\n",
    "    for j in np.arange(len(ystart)):\n",
    "        rs = int(xstart[i])\n",
    "        re = int(xend[i])\n",
    "        cs = int(ystart[j])\n",
    "        ce = int(yend[j])\n",
    "        t,z,x,y,c = d[:,:, rs:re, cs:ce, :].shape\n",
    "        total_pix += x*y\n",
    "\n",
    "print(total_pix)"
   ]
  },
  {
   "cell_type": "code",
   "execution_count": 120,
   "metadata": {},
   "outputs": [],
   "source": [
    "import random"
   ]
  },
  {
   "cell_type": "code",
   "execution_count": 117,
   "metadata": {},
   "outputs": [
    {
     "data": {
      "text/plain": [
       "PosixPath('/Users/edwardsa/Documents/bergland')"
      ]
     },
     "execution_count": 117,
     "metadata": {},
     "output_type": "execute_result"
    }
   ],
   "source": []
  },
  {
   "cell_type": "code",
   "execution_count": null,
   "metadata": {},
   "outputs": [],
   "source": [
    "f."
   ]
  }
 ],
 "metadata": {
  "kernelspec": {
   "display_name": "Python 3",
   "language": "python",
   "name": "python3"
  },
  "language_info": {
   "codemirror_mode": {
    "name": "ipython",
    "version": 3
   },
   "file_extension": ".py",
   "mimetype": "text/x-python",
   "name": "python",
   "nbconvert_exporter": "python",
   "pygments_lexer": "ipython3",
   "version": "3.7.3"
  }
 },
 "nbformat": 4,
 "nbformat_minor": 2
}
