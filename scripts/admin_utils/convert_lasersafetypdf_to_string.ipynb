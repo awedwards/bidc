{
 "cells": [
  {
   "cell_type": "code",
   "execution_count": 208,
   "id": "confirmed-starter",
   "metadata": {},
   "outputs": [],
   "source": [
    "import cv2\n",
    "from pathlib import Path\n",
    "from PIL import Image\n",
    "from pdf2image import convert_from_path\n",
    "from openpyxl import Workbook\n",
    "import re\n",
    "from datetime import datetime"
   ]
  },
  {
   "cell_type": "code",
   "execution_count": 209,
   "id": "organized-dining",
   "metadata": {},
   "outputs": [],
   "source": [
    "pdf_dir = Path(\"/home/bidc/Documents/bidc/LaserSafetyCertificates/\")\n",
    "im_dir = Path(\"/home/bidc/Documents/bidc/images/\")\n",
    "wb = Workbook()\n",
    "ws = wb.active"
   ]
  },
  {
   "cell_type": "code",
   "execution_count": 210,
   "id": "biblical-berlin",
   "metadata": {},
   "outputs": [],
   "source": [
    "def days_between(d1, d2):\n",
    "    d1 = datetime.strptime(d1, \"%m/%d/%Y\")\n",
    "    #d2 = datetime.strptime(d2, \"%Y-%m-%d\")\n",
    "    return abs((d2 - d1).days)\n",
    "def parse(text):\n",
    "    \n",
    "    lines = txt.split(\"\\n\")\n",
    "    date = lines[-2]\n",
    "    match = re.search(\"\\d{1,2}\\/\\d{1,2}\\/\\d{4}\",date).group(0)\n",
    "    \n",
    "    return lines[0], match"
   ]
  },
  {
   "cell_type": "code",
   "execution_count": 211,
   "id": "objective-basic",
   "metadata": {
    "scrolled": true
   },
   "outputs": [],
   "source": [
    "txt = []\n",
    "\n",
    "ws.append([\"NAME\",\"Date Certified\",\"Expired?\"])\n",
    "\n",
    "for pdf in pdf_dir.iterdir():\n",
    "    \n",
    "    try:\n",
    "        im = convert_from_path(pdf, dpi=350)\n",
    "    except:\n",
    "        ws.append([pdf.name,\"couldn't open PDF\",\"CHECK\"])\n",
    "        continue\n",
    "    im = im[0]\n",
    "\n",
    "    impath = Path(im_dir,pdf.name[:-4] +\".jpg\")\n",
    "    im.save(impath, \"JPEG\")\n",
    "    \n",
    "    im = cv2.imread(str(impath))\n",
    "    gray = cv2.cvtColor(im, cv2.COLOR_BGR2GRAY)\n",
    "    \n",
    "    txt = pytesseract.image_to_string(gray[775:1300,500:2000])\n",
    "\n",
    "    try:  \n",
    "\n",
    "        name, date = parse(txt)\n",
    "        expired = 365 < days_between(date,datetime.now())\n",
    "\n",
    "        ws.append([name,date,str(expired)])\n",
    "\n",
    "    except:\n",
    "        ws.append([pdf.name,\"couldn't parse\",\"CHECK\"])\n",
    "        \n",
    "wb.save(\"/home/bidc/Documents/bidc/laser_safety_info.xls\")\n",
    "    \n"
   ]
  },
  {
   "cell_type": "code",
   "execution_count": 198,
   "id": "cross-commissioner",
   "metadata": {},
   "outputs": [
    {
     "data": {
      "text/plain": [
       "True"
      ]
     },
     "execution_count": 198,
     "metadata": {},
     "output_type": "execute_result"
    }
   ],
   "source": []
  },
  {
   "cell_type": "code",
   "execution_count": 193,
   "id": "known-examination",
   "metadata": {},
   "outputs": [
    {
     "ename": "TypeError",
     "evalue": "strptime() argument 1 must be str, not datetime.datetime",
     "output_type": "error",
     "traceback": [
      "\u001b[0;31m---------------------------------------------------------------------------\u001b[0m",
      "\u001b[0;31mTypeError\u001b[0m                                 Traceback (most recent call last)",
      "\u001b[0;32m<ipython-input-193-bf11bcb66e9c>\u001b[0m in \u001b[0;36m<module>\u001b[0;34m\u001b[0m\n\u001b[0;32m----> 1\u001b[0;31m \u001b[0mdays_between\u001b[0m\u001b[0;34m(\u001b[0m\u001b[0mdatetime\u001b[0m\u001b[0;34m.\u001b[0m\u001b[0mstrptime\u001b[0m\u001b[0;34m(\u001b[0m\u001b[0mstr\u001b[0m\u001b[0;34m(\u001b[0m\u001b[0mdate\u001b[0m\u001b[0;34m)\u001b[0m\u001b[0;34m,\u001b[0m \u001b[0;34m'%m/%d/%Y'\u001b[0m\u001b[0;34m)\u001b[0m\u001b[0;34m,\u001b[0m\u001b[0mdatetime\u001b[0m\u001b[0;34m.\u001b[0m\u001b[0mnow\u001b[0m\u001b[0;34m)\u001b[0m\u001b[0;34m\u001b[0m\u001b[0;34m\u001b[0m\u001b[0m\n\u001b[0m",
      "\u001b[0;32m<ipython-input-183-237eb97ef01e>\u001b[0m in \u001b[0;36mdays_between\u001b[0;34m(d1, d2)\u001b[0m\n\u001b[1;32m      1\u001b[0m \u001b[0;32mdef\u001b[0m \u001b[0mdays_between\u001b[0m\u001b[0;34m(\u001b[0m\u001b[0md1\u001b[0m\u001b[0;34m,\u001b[0m \u001b[0md2\u001b[0m\u001b[0;34m)\u001b[0m\u001b[0;34m:\u001b[0m\u001b[0;34m\u001b[0m\u001b[0;34m\u001b[0m\u001b[0m\n\u001b[0;32m----> 2\u001b[0;31m     \u001b[0md1\u001b[0m \u001b[0;34m=\u001b[0m \u001b[0mdatetime\u001b[0m\u001b[0;34m.\u001b[0m\u001b[0mstrptime\u001b[0m\u001b[0;34m(\u001b[0m\u001b[0md1\u001b[0m\u001b[0;34m,\u001b[0m \u001b[0;34m\"%Y-%m-%d\"\u001b[0m\u001b[0;34m)\u001b[0m\u001b[0;34m\u001b[0m\u001b[0;34m\u001b[0m\u001b[0m\n\u001b[0m\u001b[1;32m      3\u001b[0m     \u001b[0md2\u001b[0m \u001b[0;34m=\u001b[0m \u001b[0mdatetime\u001b[0m\u001b[0;34m.\u001b[0m\u001b[0mstrptime\u001b[0m\u001b[0;34m(\u001b[0m\u001b[0md2\u001b[0m\u001b[0;34m,\u001b[0m \u001b[0;34m\"%Y-%m-%d\"\u001b[0m\u001b[0;34m)\u001b[0m\u001b[0;34m\u001b[0m\u001b[0;34m\u001b[0m\u001b[0m\n\u001b[1;32m      4\u001b[0m     \u001b[0;32mreturn\u001b[0m \u001b[0mabs\u001b[0m\u001b[0;34m(\u001b[0m\u001b[0;34m(\u001b[0m\u001b[0md2\u001b[0m \u001b[0;34m-\u001b[0m \u001b[0md1\u001b[0m\u001b[0;34m)\u001b[0m\u001b[0;34m.\u001b[0m\u001b[0mdays\u001b[0m\u001b[0;34m)\u001b[0m\u001b[0;34m\u001b[0m\u001b[0;34m\u001b[0m\u001b[0m\n\u001b[1;32m      5\u001b[0m \u001b[0;32mdef\u001b[0m \u001b[0mparse\u001b[0m\u001b[0;34m(\u001b[0m\u001b[0mtext\u001b[0m\u001b[0;34m)\u001b[0m\u001b[0;34m:\u001b[0m\u001b[0;34m\u001b[0m\u001b[0;34m\u001b[0m\u001b[0m\n",
      "\u001b[0;31mTypeError\u001b[0m: strptime() argument 1 must be str, not datetime.datetime"
     ]
    }
   ],
   "source": [
    "days_between(datetime.strptime(date, '%m/%d/%Y'),datetime.now)"
   ]
  },
  {
   "cell_type": "code",
   "execution_count": 194,
   "id": "compact-handling",
   "metadata": {},
   "outputs": [
    {
     "data": {
      "text/plain": [
       "'4/3/2020'"
      ]
     },
     "execution_count": 194,
     "metadata": {},
     "output_type": "execute_result"
    }
   ],
   "source": [
    "date"
   ]
  },
  {
   "cell_type": "code",
   "execution_count": 71,
   "id": "eastern-north",
   "metadata": {},
   "outputs": [
    {
     "data": {
      "text/plain": [
       "['Grade: 84',\n",
       " 'Score: 84.21',\n",
       " '',\n",
       " 'Sa',\n",
       " '',\n",
       " 'is',\n",
       " '',\n",
       " 'exass',\n",
       " '',\n",
       " 'Zs',\n",
       " '',\n",
       " 'completed on 9/4/2020',\n",
       " '',\n",
       " '“”',\n",
       " 'oO',\n",
       " 'N',\n",
       " '<',\n",
       " 'Sd',\n",
       " '°',\n",
       " 'O',\n",
       " 'a',\n",
       " 'Ls',\n",
       " '”',\n",
       " 'oO',\n",
       " '=',\n",
       " '',\n",
       " 'DANTE DENNIS VERENDIA ACENAS',\n",
       " 'Laser Safety Awareness Training',\n",
       " '',\n",
       " 'for the successful completion of',\n",
       " '',\n",
       " '9/4/2020',\n",
       " '',\n",
       " 'Signature:',\n",
       " '',\n",
       " 'ieee,',\n",
       " '777',\n",
       " 'SARE',\n",
       " '',\n",
       " ' ',\n",
       " '\\x0c']"
      ]
     },
     "execution_count": 71,
     "metadata": {},
     "output_type": "execute_result"
    }
   ],
   "source": [
    "t"
   ]
  },
  {
   "cell_type": "code",
   "execution_count": null,
   "id": "collect-variety",
   "metadata": {},
   "outputs": [],
   "source": []
  }
 ],
 "metadata": {
  "kernelspec": {
   "display_name": "Python 3",
   "language": "python",
   "name": "python3"
  },
  "language_info": {
   "codemirror_mode": {
    "name": "ipython",
    "version": 3
   },
   "file_extension": ".py",
   "mimetype": "text/x-python",
   "name": "python",
   "nbconvert_exporter": "python",
   "pygments_lexer": "ipython3",
   "version": "3.8.5"
  }
 },
 "nbformat": 4,
 "nbformat_minor": 5
}
