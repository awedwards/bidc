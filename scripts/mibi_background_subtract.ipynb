{
 "cells": [
  {
   "cell_type": "code",
   "execution_count": null,
   "metadata": {},
   "outputs": [],
   "source": [
    "#!/usr/bin/env python\n",
    "# coding: utf-8\n",
    "\n",
    "# This script does background subtraction on all\n",
    "# of the channels in a mibitiff according to the \n",
    "# methods outlined in \n",
    "# Keren et al. Cell2018,174 (6), 1373-1387\n",
    "#\n",
    "# Author: Austin Edwards (austin.edwards@ucsf.edu)\n",
    "\n",
    "import numpy as np\n",
    "from pathlib import Path\n",
    "from scipy.ndimage import gaussian_filter\n",
    "from mibidata import tiff"
   ]
  },
  {
   "cell_type": "code",
   "execution_count": null,
   "metadata": {},
   "outputs": [],
   "source": [
    "# Parameters\n",
    "bg_channel_index = 0\n",
    "sigma = 3\n",
    "threshold = 0.07"
   ]
  },
  {
   "cell_type": "code",
   "execution_count": null,
   "metadata": {},
   "outputs": [],
   "source": [
    "# Set paths\n",
    "datadir = Path(\"/home/bidc/Documents/mibi/Background_Subtraction/Images\")"
   ]
  },
  {
   "cell_type": "code",
   "execution_count": null,
   "metadata": {},
   "outputs": [],
   "source": [
    "# Opens the tiff file\n",
    "def open_tiff(file_name):\n",
    "    return tiff.read(str(files[0]))"
   ]
  },
  {
   "cell_type": "code",
   "execution_count": null,
   "metadata": {},
   "outputs": [],
   "source": [
    "files = [f for f in datadir.iterdir() if (f.name.endswith(\".tiff\") or f.name.endswith(\".tif\"))]\n",
    "mibitf = open_tiff(files[0])\n",
    "channels = mibitf.channels"
   ]
  },
  {
   "cell_type": "code",
   "execution_count": null,
   "metadata": {},
   "outputs": [],
   "source": [
    "# Find bg channel if one is not set\n",
    "if bg_channel_index == -1:\n",
    "    for i,c in enumerate(channels):\n",
    "        if 'background' in c.lower():\n",
    "            bg_channel_index = i\n",
    "            break\n",
    "if bg_channel_index == -1:\n",
    "    bg_channel_index = 0"
   ]
  },
  {
   "cell_type": "code",
   "execution_count": null,
   "metadata": {},
   "outputs": [],
   "source": [
    "for f in files:\n",
    "    \n",
    "    mibitf = open_tiff(f)\n",
    "    new_im = mibitf.copy()\n",
    "    \n",
    "    # Apply gaussian filter to bg channel and mask based on provided threshold\n",
    "    smooth_bg = gaussian_filter(mibitf.data[:,:,bg_channel_index], sigma=sigma)\n",
    "    \n",
    "    # Create mask by thresholding smoothed background\n",
    "    mask = np.array(smooth_bg > threshold, dtype=np.uint8)\n",
    "\n",
    "    for channel_id in np.arange(mibitf.data.shape[2]):\n",
    "        \n",
    "        channel_im = mibitf.data[:,:,channel_id]\n",
    "        \n",
    "        # Subtract 2 counts from each channel where the mask is above threshold\n",
    "        channel_im = channel_im - 2*mask\n",
    "        channel_im[channel_im<0] = 0\n",
    "        \n",
    "        new_im.data[:,:,channel_id]=channel_im\n",
    "        \n",
    "    tiff.write(str(Path(datadir, f.stem + \"_background_subtracted.tiff\")), new_im)"
   ]
  }
 ],
 "metadata": {
  "kernelspec": {
   "display_name": "Python 3",
   "language": "python",
   "name": "python3"
  },
  "language_info": {
   "codemirror_mode": {
    "name": "ipython",
    "version": 3
   },
   "file_extension": ".py",
   "mimetype": "text/x-python",
   "name": "python",
   "nbconvert_exporter": "python",
   "pygments_lexer": "ipython3",
   "version": "3.8.5"
  }
 },
 "nbformat": 4,
 "nbformat_minor": 4
}
